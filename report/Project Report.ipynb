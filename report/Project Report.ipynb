{
 "cells": [
  {
   "cell_type": "markdown",
   "metadata": {},
   "source": [
    "# STAT461 Project - Financial Time Series with Bayesian Inference\n",
    "## Xavier Miles\n",
    "\n",
    "The aim of this project is to investigate how Bayesian inference can be used in R to forecast time series data. The primary tool for this will be Bayesian linear regression and we will investigate using this model to predict the NZ GDP annual growth rate. The Bayesian approach is appealing because the priors can be used to impose restrictions/assumptions on the model, and this can help prevent overfitting, which is a common problem with time series data due to the number of parameters typically being large relative to the number of data points. The overfitting will not be such a concern when only using previous NZ GDP data, but becomes more important if other economic factors are included as explanatory variables."
   ]
  },
  {
   "cell_type": "markdown",
   "metadata": {},
   "source": [
    "## Theory\n",
    "\n",
    "We will consider linear regression with normally distributed errors,\n",
    "$$\n",
    "Y_t = \\beta X_t + \\epsilon_t, \\\\\n",
    "\\epsilon \\sim N(0,\\sigma^2),\n",
    "$$\n",
    "so the parameters of interests are the variance of the errors, $\\sigma^2$, and the coefficient vector, $\\beta$. The posterior distribution can be expressed as\n",
    "$$\n",
    "p(\\beta,\\sigma^2 | Y_t) \\propto p(Y_t | \\beta,\\sigma^2) \\times p(\\beta,\\sigma^2),\n",
    "$$\n",
    "where $p(Y_t | \\beta,\\sigma^2)$ is the data/sampling distribution and $p(\\beta,\\sigma^2)$ is the prior distribution. To calculate the posterior distribution directly from this equation would require calculating marginal distributions, which can often be analytically intractable or computationally expensive. Instead we will use Gibbs Sampling algorithm which produces approximate sample values from the posterior distribution, given a full set of conditional distributions"
   ]
  },
  {
   "cell_type": "markdown",
   "metadata": {},
   "source": [
    "## Gibbs Sampling\n",
    "Suppose we are trying to find the marginal distribution of $n$ variables, given that their joint distribution is\n",
    "$$\n",
    "f(x_1, \\dots, x_n).\n",
    "$$\n",
    "The Gibbs algorithm intitialises with values for all $n$ variables,\n",
    "$$\n",
    "x_1^0, \\dots, x_n^0,\n",
    "$$\n",
    "and then sequentially sample each of the variables conditional on the other $n-1$ variables. For the first iteration this looks like\n",
    "$$\n",
    "f(x_1^1 | x_2^0, x_3^0, \\dots, x_{n-1}^0, x_n^0) \\\\\n",
    "f(x_2^1 | x_1^1, x_3^0, \\dots, x_{n-1}^0, x_n^0) \\\\\n",
    "f(x_3^1 | x_1^1, x_2^1, \\dots, x_{n-1}^0, x_n^0) \\\\\n",
    "\\vdots \\\\\n",
    "f(x_n^1 | x_1^1, x_2^1, x_3^1 \\dots, x_{n-1}^1)\n",
    "$$\n",
    "which results in new values for all of the $n$ variables, $x_1^1,x_2^1,x_3^1,\\dots,x_n^1$. This sequential updating of the $n$ variables is repeated many times (ie. tens of thousands), and it can be shown that the conditional distributions obtained converge (asymptotically) to the joint marginal distributions. This means that the mean of the draws provides an approximation to the mean of the posterior distribution, and other \\dots\n",
    "\n",
    "Typically, the first several thousand iterations are not included in posterior inference, as these are seen to be highly variable and not have converged sufficiently yet to be a decent approximation to the true joint marginal distributions. This collection of discarded iterations is referred to as the _burn-in period_."
   ]
  },
  {
   "cell_type": "markdown",
   "metadata": {},
   "source": [
    "## Implementation for GDP data\n",
    "\n",
    "This section will run through using R to run a simple Gibbs sampler on NZ GDP annual growth rate data, given in quarterly periods. The data distribution will be an AR(2) model,\n",
    "$$\n",
    "GDP_t = c + \\beta_1 GDP_{t-1} + \\beta_2 GDP_{t-2} + \\epsilon_t,\n",
    "$$\n",
    "where $\\epsilon_t \\sim N(0,\\sigma^2)$. This means the model is assuming that the current period's GDP growth is only directly affected by the GDP growth of the two previous periods (past six months). This can also be expressed in matrix form,\n",
    "$$\n",
    "Y_t = \\beta^T X_t + \\epsilon_t, \\\\\n",
    "$$\n",
    "where $Y_t=GDP_t$, $\\beta = (c, \\beta_1, \\beta_2)^T$ is the coefficient vector, and $X_t = (1, Y_{t-1}, Y_{t-2})^T$ is the data matrix. This means the objective of the Bayesian inference is to approximate the posterior distribution of the coefficients ($c$,$\\beta_1$, and $\\beta_2$) and the error variance ($\\sigma^2$). This will be accomplished using the Gibbs sampler, which is an example of a Markov Chain Monte-Carlo (MCMC) method."
   ]
  },
  {
   "cell_type": "markdown",
   "metadata": {},
   "source": [
    "First, activate necessary packages and import the dataset. The dataset is imported from an excel document which was downloaded from the Reserve Bank of New Zealand (RBNZ) website. It is useful to convert the time series data into _ts_ objects, as there are provide more support than a matrix/data frame for handling time series data."
   ]
  },
  {
   "cell_type": "code",
   "execution_count": 1,
   "metadata": {},
   "outputs": [
    {
     "name": "stderr",
     "output_type": "stream",
     "text": [
      "-- \u001b[1mAttaching packages\u001b[22m --------------------------------------- tidyverse 1.3.0 --\n",
      "\n",
      "\u001b[32mv\u001b[39m \u001b[34mggplot2\u001b[39m 3.3.0     \u001b[32mv\u001b[39m \u001b[34mpurrr  \u001b[39m 0.3.3\n",
      "\u001b[32mv\u001b[39m \u001b[34mtibble \u001b[39m 3.0.0     \u001b[32mv\u001b[39m \u001b[34mdplyr  \u001b[39m 0.8.5\n",
      "\u001b[32mv\u001b[39m \u001b[34mtidyr  \u001b[39m 1.0.2     \u001b[32mv\u001b[39m \u001b[34mstringr\u001b[39m 1.4.0\n",
      "\u001b[32mv\u001b[39m \u001b[34mreadr  \u001b[39m 1.3.1     \u001b[32mv\u001b[39m \u001b[34mforcats\u001b[39m 0.5.0\n",
      "\n",
      "-- \u001b[1mConflicts\u001b[22m ------------------------------------------ tidyverse_conflicts() --\n",
      "\u001b[31mx\u001b[39m \u001b[34mdplyr\u001b[39m::\u001b[32mfilter()\u001b[39m masks \u001b[34mstats\u001b[39m::filter()\n",
      "\u001b[31mx\u001b[39m \u001b[34mdplyr\u001b[39m::\u001b[32mlag()\u001b[39m    masks \u001b[34mstats\u001b[39m::lag()\n",
      "\n",
      "\n",
      "Attaching package: 'matrixStats'\n",
      "\n",
      "\n",
      "The following object is masked from 'package:dplyr':\n",
      "\n",
      "    count\n",
      "\n",
      "\n",
      "\n",
      "Attaching package: 'magrittr'\n",
      "\n",
      "\n",
      "The following object is masked from 'package:purrr':\n",
      "\n",
      "    set_names\n",
      "\n",
      "\n",
      "The following object is masked from 'package:tidyr':\n",
      "\n",
      "    extract\n",
      "\n",
      "\n",
      "New names:\n",
      "* `` -> ...1\n",
      "\n"
     ]
    }
   ],
   "source": [
    "sink(\"NUL\")  # Prevent messages being printed when loading packages\n",
    "library(tidyverse)\n",
    "library(readxl)\n",
    "library(matrixStats)\n",
    "library(magrittr)\n",
    "library(fanplot)\n",
    "sink()\n",
    "set.seed(123456) # Reproducibility\n",
    "\n",
    "GDP_all <- read_excel(\"RBNZ_data.xlsx\", sheet = \"GDP\", range = \"B4:G125\") %>%\n",
    "  set_colnames(c(\"Date\",\"NZ\",\"Aus\",\"USA\",\"Jap\",\"UK\"))\n",
    "GDP_ts <- ts(GDP_all$NZ, start = c(1990,1), freq = 4)\n",
    "GDP_ts_cropped <- window(GDP_ts, start = c(1990,1), end = c(2020,1))"
   ]
  },
  {
   "cell_type": "markdown",
   "metadata": {},
   "source": [
    "Next, define a function which will construct the $X$ matrix from a dataset, given the specified number of terms to include. Also, define a function which creates the companion matrix associated with the coefficient vector supplied to it, as this form will be useful later."
   ]
  },
  {
   "cell_type": "code",
   "execution_count": 2,
   "metadata": {},
   "outputs": [],
   "source": [
    "regression_matrix <- function(data, p, constant) {\n",
    "  # Create an X matrix which contains the p lagged Y terms and a constant term.\n",
    "  \n",
    "  nrow <- as.numeric(dim(data)[1])\n",
    "  nvar <- as.numeric(dim(data)[2])\n",
    "  \n",
    "  Y1 <- as.matrix(data, ncol = nvar)\n",
    "  Y <- matrix(Y1[(p+1):nrow(Y1), ])\n",
    "  \n",
    "  X <- embed(Y1, p+1)  # Creates lagged variables\n",
    "  X <- X[, (nvar+1):ncol(X)]\n",
    "  if (constant) {\n",
    "    X <- cbind(rep(1, (nrow-p)), X)\n",
    "  }\n",
    "  \n",
    "  nvar2 <- ncol(X)\n",
    "  \n",
    "  return(list(Y = Y, X = X, nvar2 = nvar2, nrow = nrow))\n",
    "}\n",
    "\n",
    "companion_matrix <- function(coeff_vector) {\n",
    "  # Convert the supplied coefficient vector into a companion matrix form.\n",
    "  # This is useful for recasting an AR(2) as an AR(1).\n",
    "  if (is.matrix(coeff_vector) == FALSE || ncol(coeff_vector) != 1) {\n",
    "    stop(\"Error: coeff_vector must be a one-column matrix\")\n",
    "  }\n",
    "  \n",
    "  # Don't include constant term\n",
    "  k <- nrow(coeff_vector) - 1 \n",
    "  CM <- matrix(0, nrow = k, ncol = k)\n",
    "  CM[2:k, 1:(k-1)] <- diag(1, nrow = k-1, ncol = k-1)\n",
    "  CM[1, 1:k] <- coeff_vector[2:(k+1)]\n",
    "  \n",
    "  return(CM)\n",
    "}"
   ]
  },
  {
   "cell_type": "markdown",
   "metadata": {},
   "source": [
    "Now we can use the _regression_matrix_ function to generate the $X$ matrix for the GDP growth data with 2 lagged terms and a constant term.\n",
    "The correct number of lagged terms to include in the model could be more objectively chosen through using autocorrelation and partial autocorrelation functions (ACF/PACF), but an arbitrary choice still allows us to appreciate the capabilities of a Bayesian approach to forecasting time series.\n",
    "\n",
    "The _companion_matrix_ function generates the companion matrix for a coefficient vector. Suppose we have a coefficient vector $\\beta=(\\beta_1,\\dots,\\beta_n)^T$. The companion matrix corresponding to this coefficient vector is an $(n\\times n)$ matrix with the first row being the coefficients, an $(n-1)\\times(n-1)$ identity matrix below this, and zeroes in the final column.\n",
    "\\begin{equation}\n",
    "    \\begin{pmatrix}\n",
    "        \\beta_1 & \\beta_2 & \\dots  & \\beta_{n-1} & \\beta_n \\\\\n",
    "        1       & 0       & \\dots  & 0           & 0       \\\\\n",
    "        0       & 1       & \\dots  & 0           & 0       \\\\\n",
    "        \\vdots  & \\vdots  & \\ddots & \\vdots      & \\vdots  \\\\\n",
    "        0       & 0       & \\dots  & 1           & 0\n",
    "    \\end{pmatrix}\n",
    "\\end{equation}\n",
    "This will be useful for calculating the stability of the model, which will be necessary later for the Gibbs sampler."
   ]
  },
  {
   "cell_type": "code",
   "execution_count": 3,
   "metadata": {},
   "outputs": [],
   "source": [
    "reg_output_GDP <- GDP_ts_cropped %>%\n",
    "  as.matrix(ncol = 1) %>%\n",
    "  regression_matrix(2, TRUE)\n",
    "lagged_GDP <- reg_output_GDP$X\n",
    "GDP_Y <- reg_output_GDP$Y\n",
    "nrow <- reg_output_GDP$nrow\n",
    "nvar <- reg_output_GDP$nvar2"
   ]
  },
  {
   "cell_type": "markdown",
   "metadata": {},
   "source": [
    "Now we need to set the priors. For the $\\beta$ coefficients, we will use a normal prior with zero mean and unit variance,\n",
    "$$\n",
    "\\begin{pmatrix} c^0 \\\\ \\beta_1^0 \\\\ \\beta_2^0 \\end{pmatrix} = \\begin{pmatrix} 0 \\\\ 0 \\\\ 0 \\end{pmatrix}, \\qquad \\sigma_{(c,\\beta_1,\\beta_2)}^2 = I_3,\n",
    "$$\n",
    "which are initialised as _Beta0_ and _Beta_var0_ below, repectively. For the $\\sigma^2$ parameter/coefficient, we will use an inverse gamma prior,\n",
    "$$\n",
    "p(\\sigma^2) \\sim \\Gamma^{-1}\\left( \\frac{T_0}{2}, \\frac{\\theta_0}{2} \\right),\n",
    "$$\n",
    "as this is a very common choice. This is because the inverse gamma distribution is only defined for postive numbers and variance can only take postive values. In this case, the shape (_T0_) and scale (_theta0_) parameters were arbitrarily chosen, but these could be found more objectively using robustness tests."
   ]
  },
  {
   "cell_type": "code",
   "execution_count": 4,
   "metadata": {},
   "outputs": [],
   "source": [
    "# Priors\n",
    "Beta0 <- as.matrix(rep(0,nvar), nrow = 1)  # Starting value of coeff. vector\n",
    "Beta_var0 <- diag(1, nvar)                 # Variance of coeff. vector\n",
    "\n",
    "sigma2 <- 1                                # Starting value of variance\n",
    "T0 <- 1                                    # Shape\n",
    "theta0 <- 0.1                              # Scale"
   ]
  },
  {
   "cell_type": "markdown",
   "metadata": {},
   "source": [
    "As the necessary components of the model are defined/initialised, we can now consider the Gibbs sampler algorithm. The code to define the _gibbs_sampler_ function is included first, and then we will consider the code step-by-step to understand what is happening."
   ]
  },
  {
   "cell_type": "code",
   "execution_count": 5,
   "metadata": {},
   "outputs": [
    {
     "name": "stdout",
     "output_type": "stream",
     "text": [
      "Iteration (in thousands): 1 2 3 4 5 6 7 8 9 10 11 12 13 14 15 16 17 18 19 20 "
     ]
    }
   ],
   "source": [
    "gibbs_sampler <- function(X,Y,Beta0,sigma0,sigma2,T0,theta0,reps,p,horizon) {\n",
    "  nvar <- ncol(X)  # Number of explanatory/lagged variables\n",
    "  out_coef <- matrix(0, nrow = reps, ncol = nvar+1)\n",
    "  out_forecasts <- matrix(0, nrow = reps, ncol = horizon)\n",
    "  \n",
    "  cat(\"Iteration (in thousands): \")\n",
    "  for (i in 1:reps) {\n",
    "    if (i %% 1000 == 0) {\n",
    "      cat(i/1000, \" \", sep = \"\")\n",
    "    }\n",
    "    \n",
    "    # Posterior mean and variance of the Normal dist. conditional on (B,sigma2)\n",
    "    M <- solve(solve(Beta_var0) + as.numeric(1/sigma2) * t(X) %*% X) %*%\n",
    "      (solve(Beta_var0) %*% Beta0 + as.numeric(1/sigma2) * t(X) %*% Y)\n",
    "    \n",
    "    V <- solve(solve(sigma0) + as.numeric(1/sigma2) * t(X) %*% X)\n",
    "    \n",
    "    chck_stblty <- -1\n",
    "    while (chck_stblty < 0) {  # Check for stability\n",
    "      Beta <- M + t(rnorm(p+1) %*% chol(V))\n",
    "      b <- companion_matrix(Beta)\n",
    "      max_abs_evalue <- max(sapply(eigen(b)$values, abs))\n",
    "      \n",
    "      # Check that not stationary for 3 lags (if abs(evalues)<1 forall evalues)\n",
    "      if (max_abs_evalue <= 1) {\n",
    "        chck_stblty <- 1\n",
    "      }\n",
    "    }\n",
    "    # Compute residuals\n",
    "    resids <- Y - X%*%Beta\n",
    "    theta1 <- theta0 + t(resids)%*%resids\n",
    "      \n",
    "    # Draw from Inverse-Gamma to get sigma2 coefficient\n",
    "    T1 <- nrow(Y)\n",
    "    T2 <- T0 + T1\n",
    "    z0 <- rnorm(T1, 1)\n",
    "    sigma2 <- theta1 / (t(z0) %*% z0)\n",
    "    #sigma2 <- extraDistr::rinvgamma(n = 1, alpha = T1/2, beta = theta1/2)\n",
    "    \n",
    "    # Store coefficients from the current iteration\n",
    "    out_coef[i, ] <- matrix(c(Beta,sigma2), nrow = 1)\n",
    "    \n",
    "    # Compute 3-year forecasts\n",
    "    yhat <- rep(0, horizon)\n",
    "    end <- as.numeric(length(Y))\n",
    "    yhat[1:2] <- Y[(end-1):end, ]\n",
    "    \n",
    "    X_mat <- c(1, rep(0,p))\n",
    "    for (m in (p+1):horizon) {\n",
    "      for (lag in 1:p) {\n",
    "        # Create X matrix with p lags\n",
    "        X_mat[lag+1] <- yhat[m-lag]\n",
    "      }\n",
    "      \n",
    "      # Use X matrix to forecast yhat\n",
    "      yhat[m] <- (X_mat %*% Beta) + (rnorm(1) * sqrt(sigma2))\n",
    "    }\n",
    "    out_forecasts[i, ] <- yhat\n",
    "    \n",
    "  }\n",
    "  \n",
    "  return(list(out_coef = out_coef, out_forecasts = out_forecasts))\n",
    "}\n",
    "\n",
    "repeats <- 20000\n",
    "p <- 2\n",
    "horizon <- 14\n",
    "gibbs_output <- gibbs_sampler(lagged_GDP,GDP_Y,Beta0,Beta_var0,sigma2,T0,theta0,repeats,p,horizon)"
   ]
  },
  {
   "cell_type": "markdown",
   "metadata": {},
   "source": [
    "Firstly, we need the following arguments to be supplied to the _gibbs_sampler_ function:\n",
    "- The matrix of explanatory variables (X), which will be just the two lagged NZ GDP data produced by the _regression_matrix_ function earlier.\n",
    "- The initial variable (Y), which will be the NZ GDP data (excluding the first two periods so it matches the lagged variables).\n",
    "- The priors we defined earlier; Beta0, Beta_var0, sigma2, T0, theta0.\n",
    "- The number of repeats (reps) for the Gibbs sampler. Not all of these repeats will be used during posterior inference, since the Gibbs sampler takes a certain number of repeats/iterations to converge to a sufficient degree of accuracy, but we will define the burn-in period and remove these repeats in the Results section.\n",
    "- The horizon, which is how many periods we want to forecast plus the number of lagged terms. We chose a value of 14, which means that we are forecasting 12 periods for an AR(2) model. As the period for this dataset is quarters, 12 periods corresponds to 12 quarters or 3 years."
   ]
  },
  {
   "cell_type": "markdown",
   "metadata": {},
   "source": [
    "The function defines some output matrices and then all the computation is done within the large for-loop.\n",
    "The first two steps in the for-loop are calculating the posterior mean and variance of the Normal distribution conditional on $\\beta$ and $\\sigma^2$. The mean of the posterior paramets $\\beta$ is defined as\n",
    "$$\n",
    "    M = \\left(\\Sigma_0^{-1} + \\frac{1}{\\sigma^2}X_t^TX_t \\right)^{-1} \\left(\\Sigma_0^{-1} \\beta_0 + \\frac{1}{\\sigma^2}X_t^TY_t \\right),\n",
    "$$\n",
    "and substituting the MLE for $Y_t$ gives\n",
    "$$\n",
    "    M = \\left(\\Sigma_0^{-1} + \\frac{1}{\\sigma^2}X_t^TX_t \\right)^{-1} \\left(\\Sigma_0^{-1} \\beta_0 + \\frac{1}{\\sigma^2}X_t^T X_t \\beta_{OLS} \\right),\n",
    "$$\n",
    "which illustrates how $M$ is a weighted average of the prior mean ($\\beta_0$) and the MLE of the mean ($\\beta_{OLS}$).\n",
    "The variance of the posterior parameter $\\beta$ is defined as\n",
    "$$\n",
    "    V = \\left(\\Sigma_0^{-1} + \\frac{1}{\\sigma^2}X_t^TX_t \\right)^{-1},\n",
    "$$\n",
    "which is exactly the normalising constant from the equation for $M$. To get a random sample $B_+$ from the Normal distribution, with mean $M$ and variance $V$, we can sample a vector $B^*$ from a standard normal distribution and then apply the formula\n",
    "$$\n",
    "    B_+ = M + (B^* \\times V^{-1/2})^T,\n",
    "$$\n",
    "which can just be viewed as the multidimensional generalisation of the equation used to calculate the z-score. The while-loop is checking whether the coefficient matrix/variable is stable and therefore verifying whether the model is dynamically stable. By recasting the AR(2) model as AR(1), the model is dynamically stable if the absolute values of the eigenvalues are less than one. (For more information about the dynamical stability of an AR model, see Chp. 17 of Fundamental Methods of Mathematical Economics.)"
   ]
  },
  {
   "cell_type": "markdown",
   "metadata": {},
   "source": [
    "Now that we have the draw of the coefficient vector $\\beta$, we will now draw $\\sigma$ from the inverse-gamma distribution conditioned on this $\\beta$. To obtain a sample $z$ from the inverse-gamma distribution with degrees of freedom $T/2$ and scale parameter $\\theta/2$, we can use\n",
    "$$\n",
    "    z = \\frac{\\theta}{z_0^Tz_0},\n",
    "$$\n",
    "where $z_0$ is a vector of $T$ draws from a standard normal distribution. All of the coefficients are then saved into the _out_coef_ matrix."
   ]
  },
  {
   "cell_type": "markdown",
   "metadata": {},
   "source": [
    "The generated coefficients are then used to generate forecasts (yhat), which is then saved to the corresponding row of the _out_forecasts_ matrix. The equation for a 1-step ahead forecast can be written as\n",
    "$$\n",
    "    \\hat{Y}_{t+1} = \\alpha + \\beta_1 \\hat{Y}_t + \\beta_2 \\hat{Y}_{t-1} + \\sigma \\nu^*.\n",
    "$$\n",
    "The forecast is an AR(2) model with a random shock each period based on the draws of $\\sigma$ (and a standard normally distributed variable).\n",
    "\n",
    "The _gibbs_sampler_ function returns the matrix of randomly generated coefficients (_out_coef_) and the matrix of corresponding forecasts (_out_forecasts_)."
   ]
  },
  {
   "cell_type": "markdown",
   "metadata": {},
   "source": [
    "## Posterior Estimates\n",
    "\n",
    "Each draw of the Gibbs sampler gives us sample values for the parameters.\n",
    "In the plots below, we can see that the $\\beta$ coefficients look to be normally distributed, which would be expected since the prior and likelihood function were both defined to be normal. The $\\sigma^2$ parameter seems to be roughly normally distributed, except for a slight right skew. \n",
    "\n",
    "The posterior means of the four parameters are also printed, and these are the posterior estimates for the corresponding parameter. Since $\\beta_1$ estimate is positive, there is a positive relationship between the GDP of the current quarter and GDP of the previous quarter, meaning that a high GDP in one quarter means it is likely there will also be a high GDP in the next quarter (and vice versa). Since $\\beta_2$ estimate is negative, there is a negative relationship between the GDP of the current quarter and GDP two quarters ago. \n",
    "The $\\sigma$ estimate is relatively small, the volatility of the GDP numbers from quarter to quarter is relatively small; or equivalently, the GDP data from the two previous quarters can be used to predict the current GDP relatively accurately."
   ]
  },
  {
   "cell_type": "code",
   "execution_count": 6,
   "metadata": {},
   "outputs": [
    {
     "name": "stdout",
     "output_type": "stream",
     "text": [
      "--Posterior medians--\n",
      "c:      0.2679166\n",
      "beta1:  1.66404\n",
      "beta2: -0.759228\n",
      "sigma:  0.06915444"
     ]
    },
    {
     "data": {
      "image/png": "[encoded data removed]",
      "text/plain": [
       "plot without title"
      ]
     },
     "metadata": {
      "image/png": {
       "height": 420,
       "width": 420
      }
     },
     "output_type": "display_data"
    }
   ],
   "source": [
    "# Remove burn iterations\n",
    "burn <- 10000\n",
    "coef <- gibbs_output[[\"out_coef\"]][(burn+1):repeats, ]\n",
    "forecasts <- gibbs_output[[\"out_forecasts\"]][(burn+1):repeats, ]\n",
    "\n",
    "const <- median(coef[, 1])\n",
    "beta1 <- median(coef[, 2])\n",
    "beta2 <- median(coef[, 3])\n",
    "sigma <- median(coef[, 4])\n",
    "cat(\"--Posterior medians--\\n\", \"c:      \", const, \"\\nbeta1:  \", beta1, \n",
    "    \"\\nbeta2: \", beta2, \"\\nsigma:  \", sigma, sep = \"\")\n",
    "\n",
    "# Plot parameters:\n",
    "const_plot <- qplot(coef[,1], geom = \"histogram\", bins = 45, xlab = \"\", \n",
    "                     main = \"Distribution of Constant\", colour = \"#FF9999\")  + \n",
    "  guides(colour = FALSE)\n",
    "beta1_plot <- qplot(coef[,2], geom = \"histogram\", bins = 45, xlab = \"\",\n",
    "                    main = \"Distribution of Beta1\", colour = \"#FF9999\") + \n",
    "  guides(colour = FALSE)\n",
    "beta2_plot <- qplot(coef[,3], geom = \"histogram\", bins = 45, xlab = \"\",\n",
    "                    main = \"Distribution of Beta2\", colour = \"#FF9999\") + \n",
    "  guides(colour = FALSE)\n",
    "sigma_sq_plot <- qplot(coef[,4], geom = \"histogram\", bins = 45, xlab = \"\",\n",
    "                    main = \"Distribution of SigmaSq\", colour = \"#FF9999\") + \n",
    "  guides(colour = FALSE)\n",
    "\n",
    "gridExtra::grid.arrange(const_plot, beta1_plot, beta2_plot, sigma_sq_plot,\n",
    "                        nrow = 2)"
   ]
  },
  {
   "cell_type": "markdown",
   "metadata": {},
   "source": [
    "## Forecasts\n",
    "\n",
    "The following code produces a plot which shows the previous and forecasted NZ GDP annual growth rates. The plot also includes the 95% credible interval for the forecasted values."
   ]
  },
  {
   "cell_type": "code",
   "execution_count": 7,
   "metadata": {},
   "outputs": [
    {
     "data": {
      "image/png": "[encoded data removed]",
      "text/plain": [
       "plot without title"
      ]
     },
     "metadata": {
      "image/png": {
       "height": 420,
       "width": 420
      }
     },
     "output_type": "display_data"
    }
   ],
   "source": [
    "## Plotting forecasts ----------------------------------------------------------\n",
    "# Need to use the parameters to construct forecasts and credible intervals.\n",
    "forecasts_mean <- as.matrix(colMeans(forecasts))\n",
    "forecasts_sd <- as.matrix(apply(forecasts, 2, sd))\n",
    "\n",
    "# Create credible intervals around the forecasts\n",
    "error_bands <- rbind(\n",
    "  cbind(GDP_Y,GDP_Y),\n",
    "  colQuantiles(forecasts, prob = c(0.16,0.84))[(p+1):horizon,]\n",
    ")\n",
    "all <- as.matrix(c(GDP_Y[1:(length(GDP_Y)-2)], forecasts_mean))\n",
    "forecasts_mat <- cbind.data.frame(error_bands[,1], all, error_bands[,2]) %>%\n",
    "  set_names(c(\"lower\",\"mean\",\"upper\"))\n",
    "\n",
    "# Create Date vector for plotting\n",
    "date_vec <- seq(from = as.Date(GDP_all$Date[1]), by = \"quarter\", \n",
    "                length.out = nrow(forecasts_mat))\n",
    "\n",
    "data_plot <- cbind(date_vec, forecasts_mat)\n",
    "data_subset <- data_plot[(nrow(data_plot)-20*4):nrow(data_plot), ]\n",
    "data_forecast <- data_plot[(nrow(data_plot)-horizon+p):nrow(data_plot), ]\n",
    "\n",
    "ggplot(data_subset, aes(x = date_vec, y = mean)) +\n",
    "  ggtitle(\"Forecasted NZ GDP annual growth rate\") +\n",
    "  labs(x = \"time\", y = \"GDP growth\") +\n",
    "  geom_line(colour = \"blue\", lwd = 1.2) +\n",
    "  geom_ribbon(data = data_forecast, aes(ymin = lower, ymax = upper, \n",
    "                                        colour = \"bands\", alpha = 0.2)) + \n",
    "  guides(colour = \"none\")"
   ]
  },
  {
   "cell_type": "markdown",
   "metadata": {},
   "source": [
    "The following function just produces the same plot, but with nicer formatting and shading to show the quantiles of the credible interval for the forecasted values. It uses the _fanplot_ package for the \"fanned\" forecast credible interval."
   ]
  },
  {
   "cell_type": "code",
   "execution_count": 8,
   "metadata": {},
   "outputs": [
    {
     "data": {
      "image/png": "[encoded data removed]",
      "text/plain": [
       "Plot with title \"Forecasted NZ GDP annual growth rate (BAR model)\""
      ]
     },
     "metadata": {
      "image/png": {
       "height": 420,
       "width": 420
      }
     },
     "output_type": "display_data"
    }
   ],
   "source": [
    "plot_fanplot <- function(forecasts, orig_data, y_limits, plot_title) {\n",
    "    forecasts_median <- apply(forecasts, 2, median)\n",
    "    forecasts_sd <- apply(forecasts, 2, sd)\n",
    "    \n",
    "    y0 <- 2020.25\n",
    "    tt <- seq(y0, y0+11/4, by = 0.25)\n",
    "\n",
    "    params <- cbind(tt, forecasts_median[-c(1,2)], forecasts_sd[-c(1,2)])\n",
    "    probs <- seq(0.1, 0.9, by = 0.05)\n",
    "    k <- nrow(params)\n",
    "    bvar_GDP_plot <- matrix(NA, nrow = length(probs), ncol = k)\n",
    "    for (i in 1:k) {\n",
    "      bvar_GDP_plot[, i] <- qsplitnorm(probs, mode = params[i,2], sd = params[i,3])\n",
    "    }\n",
    "    \n",
    "    # Plot past data\n",
    "    plot(orig_data, type = \"l\", col = \"tomato\", lwd = 2.5,\n",
    "         xlim = c(1991, y0+3), ylim = y_limits,\n",
    "         xaxt = \"n\", yaxt = \"n\", ylab = \"\", \n",
    "         main = plot_title, panel.first = grid())\n",
    "    # Background and fanchart for forecasted values\n",
    "    rect(y0-0.25, par(\"usr\")[3]-1, y0+3, par(\"usr\")[4],\n",
    "         border = \"gray90\", col = \"gray90\")\n",
    "    fan(data = bvar_GDP_plot, data.type = \"values\", probs = probs, start = y0, freq = 4,\n",
    "        anchor = orig_data[time(orig_data) == y0-0.25],\n",
    "        fan.col = colorRampPalette(c(\"tomato\",\"gray90\")),\n",
    "        ln = NULL, rlab = NULL)\n",
    "    # Further aesthetics\n",
    "    axis(2, at = -100:100, las = 2, tcl = 0.5, labels = FALSE)\n",
    "    axis(4, at = -100:100, las = 2, tcl = 0.5)\n",
    "    axis(1, at = 1990:2023, tcl = 0.5)\n",
    "    axis(1, at = seq(1990, 2023.25, 0.25), labels = FALSE, tcl = 0.2)\n",
    "    abline(h = 0)\n",
    "}\n",
    "\n",
    "plot_fanplot(forecasts, GDP_ts_cropped, c(-2,6.5),\n",
    "             \"Forecasted NZ GDP annual growth rate (BAR model)\")"
   ]
  },
  {
   "cell_type": "markdown",
   "metadata": {},
   "source": [
    "## Conclusion\n",
    "Our forecast seems quite positive, with a mean predicted annual growth rate at around 3.2% by 2023.\n",
    "There seems to be a fair bit of upside risk with the upper bound of the 95% credible interval reaching nearly 4.5% by 2023.\n",
    "The graph indicates that it is highly unlikely that there will be negative NZ GDP growth over the next three years, with the lower bound of the 95% credible interval only just managing to avoid intersecting zero at it's lowest point. This is somewhat suprising considering how steeply the annual growth rate has been dropping in the last few periods and the generally pessimistic outlook of many people about prospects for the global economy over the next few years, but perhaps a (more complex) model which included other economic variables would forecast worse annual NZ GDP growth rates over the next few years."
   ]
  },
  {
   "cell_type": "markdown",
   "metadata": {},
   "source": [
    "# Expanded NZ Model\n",
    "\n",
    "Now we are going to investigate how the posterior inference and posterior predictions will change if we use a model that incorporates more information. The previous model just used the NZ GDP data for the two preceding quarters. This expanded model will also include Consumer Price Index (CPI) and Trade Weighted Index (TWI), where the CPI is an inflationary metric and the TWI measures the exchange rate of NZD to New Zealand's major trading partners. Given that we are interested in forecasting the GDP for new periods, we will use lagged CPI and TWI explanatory variables for the previous two periods, as the CPI and TWI for the current period is assumed to be unknown.\n",
    "\n",
    "This means the the Expanded NZ Model will be a Bayesian Vector Autoregression (BVAR) model, which is a multidimensional extension of the (Bayseian) AR model used previously, wherein a vector of time series variables is regressed on lagged vectors of these variables with preset prior distributions. We will use a BVAR model with 2 lags and 3 explanatory variables, which has the form\n",
    "$$\n",
    "    Y_t = c + B_1 Y_{t-1} + B_2 Y_{t-2} + \\epsilon_t,\n",
    "$$\n",
    "where $Y_t = (GDP_t,CPI_t,TWI_t)^T$ is an $(n\\times1)$ vector of variables, $B_1$ and $B_2$ are $(n\\times n)$ coefficient matrices, and $\\epsilon_t$ is an $(n\\times1)$ vector of error terms."
   ]
  },
  {
   "cell_type": "markdown",
   "metadata": {},
   "source": [
    "Letting $x_t = (1, y_{t-1}, y_{t-2})$, then the design matrix is\n",
    "$$\n",
    "    X = \\begin{pmatrix} GDP_t \\\\ CPI_t\\\\ TWI_t \\end{pmatrix} =\n",
    "    \\begin{pmatrix}\n",
    "        1 & GDP_{t-1} & GDP_{t-2} \\\\\n",
    "        1 & CPI_{t-1} & CPI_{t-2} \\\\\n",
    "        1 & TWI_{t-1} & TWI_{t-2}\n",
    "    \\end{pmatrix},\n",
    "$$\n",
    "which gives\n",
    "$$\n",
    "Y = X A + E,\n",
    "$$\n",
    "where $E = (\\epsilon_1, \\epsilon_2, \\epsilon_3)^T$ and $\\epsilon_1,\\epsilon_2,\\epsilon_3 \\sim N(0, \\Sigma)$."
   ]
  },
  {
   "cell_type": "markdown",
   "metadata": {},
   "source": [
    "For the priors of the BVAR model, we will use the multivariate extensions to the prior distributions used for the BAR model. This means a multivariate normal prior distribution for the coefficients,\n",
    "$$\n",
    "    \\alpha | \\Sigma,y \\sim N(\\hat{A}, \\Sigma (XX')^{-1}),\n",
    "$$\n",
    "and an inverse-Wishart prior distribution for the error covariance matrix,\n",
    "$$\n",
    "    \\Sigma^{-1} | y \\sim W(S^{-1}, \\nu)\n",
    "$$\n",
    "where $\\hat{A}$ is the OLS estimate $(X'X)^{-1}X'Y$, $S$ is the multivariate squared-error $(Y-X\\hat{A})'(Y-X\\hat{A})$, and $\\nu$ is the degrees of freedom (in this case 70)."
   ]
  },
  {
   "cell_type": "markdown",
   "metadata": {},
   "source": [
    "To use this model in R, we can use the _bvartools_ library, which includes various tools to train, predict, and interpret BVAR models. The CPI and TWI data can be imported from the same RBNZ excel document used previously. We will restrict the period of the training data to [1990 Q1, 2020 Q1], which ensures there is data for all three economic variables at every timepoint."
   ]
  },
  {
   "cell_type": "code",
   "execution_count": 9,
   "metadata": {},
   "outputs": [
    {
     "name": "stderr",
     "output_type": "stream",
     "text": [
      "New names:\n",
      "* `` -> ...1\n",
      "* `` -> ...2\n",
      "\n",
      "New names:\n",
      "* `` -> ...1\n",
      "* `` -> ...2\n",
      "\n"
     ]
    }
   ],
   "source": [
    "library(bvartools)\n",
    "\n",
    "CPI_all <- read_excel(\"RBNZ_data.xlsx\", sheet = \"CPI\", range = \"B4:C419\", \n",
    "                      col_names = FALSE) %>%\n",
    "  set_colnames(c(\"Date\",\"CPI\"))\n",
    "CPI_ts <- ts(CPI_all$CPI, start = c(1916,3), freq = 4)\n",
    "CPI_ts_cropped <- window(CPI_ts, start = c(1990,1), end = c(2020,1))\n",
    "\n",
    "TWI_all <- read_excel(\"RBNZ_data.xlsx\", sheet = \"REALTWI\", range = \"B5:C611\",\n",
    "                      col_names = FALSE) %>%\n",
    "  set_colnames(c(\"Date\",\"TWI\"))\n",
    "TWI_ts <- ts(TWI_all$TWI, start = c(1970,1), freq = 12) %>%\n",
    "  aggregate(nfreq = 4, FUN = function(months) {months[1]}) # Change to quarterly \n",
    "TWI_ts_cropped <- window(TWI_ts, start = c(1990,1), end = c(2020,1))"
   ]
  },
  {
   "cell_type": "markdown",
   "metadata": {},
   "source": [
    "Now, combine all of the data into one multivariate _ts_ object. Plotting the three variables will give us some indication of their movement over time.\n",
    "We would expect GDP growth and CPI growth to move in opposite directions, since inflation (CPI) will often discourage spending within an economy and thus dampen economic output (GDP). We can see GDP and CPI moving in opposite directions in the early 1990s and during the 2000 recession. The relationship between GDP and TWI seems less obvious, but since the relative strength of the NZD (ie TWI) affects both exports and imports, it is expect to affect the NZ economy's aggregate demand (via expenditure approach) and thus impact on NZ GDP growth."
   ]
  },
  {
   "cell_type": "code",
   "execution_count": 10,
   "metadata": {},
   "outputs": [
    {
     "data": {
      "image/png": "[encoded data removed]",
      "text/plain": [
       "plot without title"
      ]
     },
     "metadata": {
      "image/png": {
       "height": 420,
       "width": 420
      }
     },
     "output_type": "display_data"
    }
   ],
   "source": [
    "bvar_ts <- ts(cbind(GDP_ts_cropped,CPI_ts_cropped,TWI_ts_cropped), \n",
    "              start = c(1990,1), freq = 4, names = c(\"GDP\",\"CPI\",\"TWI\"))\n",
    "plot(bvar_ts, main = \"Macroeconomic Metrics Over Time\")"
   ]
  },
  {
   "cell_type": "markdown",
   "metadata": {},
   "source": [
    "## Gibbs Sampler\n",
    "\n",
    "We can use the _bvartools::gen_var_ function to generate the $Y$ and $X$ matrices."
   ]
  },
  {
   "cell_type": "code",
   "execution_count": 11,
   "metadata": {},
   "outputs": [],
   "source": [
    "bvar_data <- gen_var(bvar_ts, p = 2, deterministic = \"const\")\n",
    "bvar_Y <- t(bvar_data$data$Y)\n",
    "bvar_X <- t(bvar_data$data$Z)"
   ]
  },
  {
   "cell_type": "markdown",
   "metadata": {},
   "source": [
    "We can calculate frequentist (or non-Bayesian) VAR coefficient estimates and error-covariance matrix estimate using the ordinary OLS equations, which is what the following code does."
   ]
  },
  {
   "cell_type": "code",
   "execution_count": 12,
   "metadata": {},
   "outputs": [
    {
     "data": {
      "text/html": [
       "<table>\n",
       "<caption>A matrix: 3 × 7 of type dbl</caption>\n",
       "<thead>\n",
       "\t<tr><th></th><th scope=col>GDP.1</th><th scope=col>CPI.1</th><th scope=col>TWI.1</th><th scope=col>GDP.2</th><th scope=col>CPI.2</th><th scope=col>TWI.2</th><th scope=col>const</th></tr>\n",
       "</thead>\n",
       "<tbody>\n",
       "\t<tr><th scope=row>GDP</th><td>1.589</td><td>-0.063</td><td>0.037</td><td>-0.688</td><td> 0.018</td><td>-0.045</td><td>0.908</td></tr>\n",
       "\t<tr><th scope=row>CPI</th><td>0.081</td><td> 0.992</td><td>0.031</td><td>-0.009</td><td>-0.216</td><td>-0.033</td><td>0.323</td></tr>\n",
       "\t<tr><th scope=row>TWI</th><td>0.289</td><td> 0.198</td><td>0.975</td><td>-0.196</td><td>-0.164</td><td>-0.033</td><td>3.621</td></tr>\n",
       "</tbody>\n",
       "</table>\n"
      ],
      "text/latex": [
       "A matrix: 3 × 7 of type dbl\n",
       "\\begin{tabular}{r|lllllll}\n",
       "  & GDP.1 & CPI.1 & TWI.1 & GDP.2 & CPI.2 & TWI.2 & const\\\\\n",
       "\\hline\n",
       "\tGDP & 1.589 & -0.063 & 0.037 & -0.688 &  0.018 & -0.045 & 0.908\\\\\n",
       "\tCPI & 0.081 &  0.992 & 0.031 & -0.009 & -0.216 & -0.033 & 0.323\\\\\n",
       "\tTWI & 0.289 &  0.198 & 0.975 & -0.196 & -0.164 & -0.033 & 3.621\\\\\n",
       "\\end{tabular}\n"
      ],
      "text/markdown": [
       "\n",
       "A matrix: 3 × 7 of type dbl\n",
       "\n",
       "| <!--/--> | GDP.1 | CPI.1 | TWI.1 | GDP.2 | CPI.2 | TWI.2 | const |\n",
       "|---|---|---|---|---|---|---|---|\n",
       "| GDP | 1.589 | -0.063 | 0.037 | -0.688 |  0.018 | -0.045 | 0.908 |\n",
       "| CPI | 0.081 |  0.992 | 0.031 | -0.009 | -0.216 | -0.033 | 0.323 |\n",
       "| TWI | 0.289 |  0.198 | 0.975 | -0.196 | -0.164 | -0.033 | 3.621 |\n",
       "\n"
      ],
      "text/plain": [
       "    GDP.1 CPI.1  TWI.1 GDP.2  CPI.2  TWI.2  const\n",
       "GDP 1.589 -0.063 0.037 -0.688  0.018 -0.045 0.908\n",
       "CPI 0.081  0.992 0.031 -0.009 -0.216 -0.033 0.323\n",
       "TWI 0.289  0.198 0.975 -0.196 -0.164 -0.033 3.621"
      ]
     },
     "metadata": {},
     "output_type": "display_data"
    },
    {
     "data": {
      "text/html": [
       "<table>\n",
       "<caption>A matrix: 3 × 3 of type dbl</caption>\n",
       "<thead>\n",
       "\t<tr><th></th><th scope=col>GDP</th><th scope=col>CPI</th><th scope=col>TWI</th></tr>\n",
       "</thead>\n",
       "<tbody>\n",
       "\t<tr><th scope=row>GDP</th><td> 0.122</td><td>-0.045</td><td> 0.144</td></tr>\n",
       "\t<tr><th scope=row>CPI</th><td>-0.045</td><td> 0.376</td><td>-0.181</td></tr>\n",
       "\t<tr><th scope=row>TWI</th><td> 0.144</td><td>-0.181</td><td> 6.210</td></tr>\n",
       "</tbody>\n",
       "</table>\n"
      ],
      "text/latex": [
       "A matrix: 3 × 3 of type dbl\n",
       "\\begin{tabular}{r|lll}\n",
       "  & GDP & CPI & TWI\\\\\n",
       "\\hline\n",
       "\tGDP &  0.122 & -0.045 &  0.144\\\\\n",
       "\tCPI & -0.045 &  0.376 & -0.181\\\\\n",
       "\tTWI &  0.144 & -0.181 &  6.210\\\\\n",
       "\\end{tabular}\n"
      ],
      "text/markdown": [
       "\n",
       "A matrix: 3 × 3 of type dbl\n",
       "\n",
       "| <!--/--> | GDP | CPI | TWI |\n",
       "|---|---|---|---|\n",
       "| GDP |  0.122 | -0.045 |  0.144 |\n",
       "| CPI | -0.045 |  0.376 | -0.181 |\n",
       "| TWI |  0.144 | -0.181 |  6.210 |\n",
       "\n"
      ],
      "text/plain": [
       "    GDP    CPI    TWI   \n",
       "GDP  0.122 -0.045  0.144\n",
       "CPI -0.045  0.376 -0.181\n",
       "TWI  0.144 -0.181  6.210"
      ]
     },
     "metadata": {},
     "output_type": "display_data"
    }
   ],
   "source": [
    "B_freq <- tcrossprod(bvar_Y, bvar_X) %*% solve(tcrossprod(bvar_X))\n",
    "round(B_freq, 3)\n",
    "\n",
    "eps_freq <- bvar_Y - B_freq%*%bvar_X\n",
    "eps_Sigma_freq <- tcrossprod(eps_freq) / (ncol(bvar_Y) - nrow(bvar_Y))\n",
    "round(eps_Sigma_freq, 3)\n",
    "# B denotes coefficient estimates, eps denotes error terms (epsilon)"
   ]
  },
  {
   "cell_type": "markdown",
   "metadata": {},
   "source": [
    "Now we will set up the required components for running a Gibbs sampler with this BVAR model, given noninformative priors. First we will define some parameters for the Gibbs sampler."
   ]
  },
  {
   "cell_type": "code",
   "execution_count": 13,
   "metadata": {},
   "outputs": [],
   "source": [
    "iter <- 30000           # Number of iterations of the Gibbs sampler\n",
    "burnin <- 15000         # Number of burn-in samples\n",
    "store <- iter - burnin  # Number of stored samples\n",
    "\n",
    "tt <- ncol(bvar_Y)       # Number of observations\n",
    "k <- nrow(bvar_Y)        # Number of response variables\n",
    "m <- k * nrow(bvar_X)    # Number of estimated coefficients"
   ]
  },
  {
   "cell_type": "markdown",
   "metadata": {},
   "source": [
    "Next, we will set up noninformative priors. The coefficient vector is set to zero and the diagonal elements of the corresponding covariance matrix $V$ are set to 1, except for coefficients corresponding to intercept terms which are set to 10. The prior degree of freedom of the error term is set to 6 and the diagonal elements of the scale matrix are set to 1. (Non-diagonal elements of $V$ and the scale matrix are zero.)"
   ]
  },
  {
   "cell_type": "code",
   "execution_count": 14,
   "metadata": {},
   "outputs": [],
   "source": [
    "B_mu_prior <- matrix(0, m)                        # Vector of prior B means\n",
    "B_V_inv_prior <- diag(1, m)                       # Inverse of the prior B cov matrix\n",
    "\n",
    "eps_Sigma_degf_prior <- 6                         # Prior degrees of freedom\n",
    "eps_Sigma_scale_prior <- diag(1, k)               # Prior Sigma\n",
    "eps_Sigma_degf_post <- tt + eps_Sigma_degf_prior  # Posterior degrees of freedom"
   ]
  },
  {
   "cell_type": "markdown",
   "metadata": {},
   "source": [
    "Next, we use the OLS estimates as starting values for the Gibbs sampler and create matrixes to store the posterior samples."
   ]
  },
  {
   "cell_type": "code",
   "execution_count": 15,
   "metadata": {},
   "outputs": [],
   "source": [
    "eps_Sigma_inv <- solve(eps_Sigma_freq)  #Initial values\n",
    "\n",
    "draws_B  <- matrix(NA, m, store)\n",
    "draws_Sigma <- matrix(NA, k^2, store)"
   ]
  },
  {
   "cell_type": "markdown",
   "metadata": {},
   "source": [
    "Now we can use the _bvartools::post_normal_ function to generate approximate samples from the posterior distribution. This function was used since it uses a Gibbs sampler to generate the posterior samples, which is the algorithm we used for the BAR model earlier. Alternatively, the _BVAR_ package seems to be better-established package with slightly more functionality, but the function it offers to generate posterior samples (_bvar_) uses a different algorithm (Metropolis Hastings)."
   ]
  },
  {
   "cell_type": "code",
   "execution_count": 16,
   "metadata": {},
   "outputs": [],
   "source": [
    "for (draw in 1:iter) {\n",
    "    # Draw conditional mean parameters\n",
    "    B  <- post_normal(bvar_Y, bvar_X, eps_Sigma_inv, B_mu_prior, B_V_inv_prior)\n",
    "    \n",
    "    # Draw covariance matrix\n",
    "    eps  <- bvar_Y - matrix(B,k)%*%bvar_X  # Residuals\n",
    "    eps_Sigma_scale_post <- solve(eps_Sigma_scale_prior + tcrossprod(eps))\n",
    "    eps_Sigma_inv <- matrix(rWishart(1, eps_Sigma_degf_post, eps_Sigma_scale_post)[,,1], k)\n",
    "    eps_Sigma  <- solve(eps_Sigma_inv)\n",
    "    \n",
    "    # Store relevant draws\n",
    "    if (draw > burnin) {\n",
    "        draws_B[, (draw-burnin)] <- B\n",
    "        draws_Sigma[, (draw-burnin)] <- eps_Sigma\n",
    "    }\n",
    "}"
   ]
  },
  {
   "cell_type": "markdown",
   "metadata": {},
   "source": [
    "## Posterior Estimates\n",
    "\n",
    "We can take the posterior means of the $B$ draws as a point estimate for the coefficient matrix."
   ]
  },
  {
   "cell_type": "code",
   "execution_count": 17,
   "metadata": {},
   "outputs": [
    {
     "name": "stdout",
     "output_type": "stream",
     "text": [
      "    GDP.1  CPI.1 TWI.1  GDP.2  CPI.2  TWI.2 const\n",
      "GDP 1.584 -0.062 0.038 -0.682  0.019 -0.044 0.783\n",
      "CPI 0.084  0.983 0.031 -0.011 -0.208 -0.033 0.333\n",
      "TWI 0.338  0.180 0.983 -0.218 -0.082  0.001 0.617\n"
     ]
    }
   ],
   "source": [
    "B_bayes <- rowMeans(draws_B) %>%\n",
    "  matrix(k) %>%\n",
    "  round(3) %>%\n",
    "  set_rownames(dimnames(bvar_Y)[[1]]) %>%\n",
    "  set_colnames(dimnames(bvar_X)[[1]])\n",
    "\n",
    "print(B_bayes)"
   ]
  },
  {
   "cell_type": "markdown",
   "metadata": {},
   "source": [
    "Since we are interested in predicting the GDP growth rate, only the first row is important to us, which gives\n",
    "$$\n",
    "    GDP_t = 0.780 + \n",
    "    \\begin{pmatrix} 1.585 & -0.063 & 0.038 \\end{pmatrix} \\begin{pmatrix} GDP_{t-1}\\\\ CPI_{t-1}\\\\ TWI_{t-1} \\end{pmatrix} +\n",
    "    \\begin{pmatrix} -0.012 & -0.208 & -0.033 \\end{pmatrix} \\begin{pmatrix} GDP_{t-2}\\\\ CPI_{t-2}\\\\ TWI_{t-2} \\end{pmatrix} +\n",
    "    \\epsilon_{t,GDP}.\n",
    "$$\n",
    "We can see that the GDP growth rate has a negative relationship with the CPI of both previous quarters. This makes sense since higher inflation CPI is seen as leading to worse economic growth (GDP). However, it is interesting that the current GDP growth rate has a stronger relationship with the CPI from 2 quarters ago than the CPI from 1 quarter ago. This might be because the macroeconomic factors may take longer than three months to affect each other.\n",
    "\n",
    "The GDP growth rate has a positive and negative relationship with the TWI from one and two quarters ago, repectively. The magnitude of these coefficients is far smaller than the magnitude of the coefficients for CPI, which means the lagged TWI is less influential in predicting the current/future GDP growth rate.\n",
    "\n",
    "We can take the posterior means of the $\\Sigma$ draws as a point estimates for the covariance matrix."
   ]
  },
  {
   "cell_type": "code",
   "execution_count": 18,
   "metadata": {},
   "outputs": [
    {
     "name": "stdout",
     "output_type": "stream",
     "text": [
      "      GDP   CPI   TWI\n",
      "GDP  0.13 -0.05  0.15\n",
      "CPI -0.05  0.39 -0.18\n",
      "TWI  0.15 -0.18  6.36\n"
     ]
    }
   ],
   "source": [
    "Sigma  <- rowMeans(draws_Sigma) %>%\n",
    "  matrix(k) %>%\n",
    "  round(2) %>%\n",
    "  set_rownames(dimnames(bvar_Y)[[1]]) %>%\n",
    "  set_colnames(dimnames(bvar_Y)[[1]])\n",
    "\n",
    "print(Sigma)"
   ]
  },
  {
   "cell_type": "markdown",
   "metadata": {},
   "source": [
    "We will save the relevant output of the Gibbs sampler into a _bvar_ object, which will mean we can use the posterior sample with other helpful functions in the _bvartools_ library."
   ]
  },
  {
   "cell_type": "code",
   "execution_count": 19,
   "metadata": {
    "scrolled": true
   },
   "outputs": [
    {
     "data": {
      "text/plain": [
       "\n",
       "Model:\n",
       "\n",
       "y ~ GDP.1 + CPI.1 + TWI.1 + GDP.2 + CPI.2 + TWI.2 + const\n",
       "\n",
       "Variable: GDP \n",
       "\n",
       "          Mean      SD  Naive SD Time-series SD     2.5%      50%    97.5%\n",
       "GDP.1  1.58410 0.06466 0.0005279      0.0005279  1.45831  1.58335  1.71064\n",
       "CPI.1 -0.06229 0.05218 0.0004260      0.0004260 -0.16364 -0.06233  0.04090\n",
       "TWI.1  0.03782 0.01379 0.0001126      0.0001157  0.01031  0.03790  0.06511\n",
       "GDP.2 -0.68234 0.06325 0.0005165      0.0005165 -0.80572 -0.68240 -0.55725\n",
       "CPI.2  0.01913 0.05047 0.0004121      0.0004121 -0.08063  0.01903  0.11887\n",
       "TWI.2 -0.04397 0.01390 0.0001135      0.0001171 -0.07141 -0.04400 -0.01666\n",
       "const  0.78312 0.31012 0.0025321      0.0025827  0.16582  0.78377  1.39012\n",
       "\n",
       "Variable: CPI \n",
       "\n",
       "          Mean      SD  Naive SD Time-series SD     2.5%      50%    97.5%\n",
       "GDP.1  0.08416 0.10891 0.0008892      0.0008892 -0.12859  0.08293  0.29768\n",
       "CPI.1  0.98297 0.08881 0.0007251      0.0007251  0.80911  0.98293  1.15726\n",
       "TWI.1  0.03142 0.02373 0.0001938      0.0001938 -0.01470  0.03114  0.07744\n",
       "GDP.2 -0.01089 0.10702 0.0008738      0.0008738 -0.22343 -0.01009  0.19571\n",
       "CPI.2 -0.20775 0.08576 0.0007003      0.0007003 -0.37713 -0.20804 -0.04119\n",
       "TWI.2 -0.03293 0.02386 0.0001948      0.0001948 -0.07961 -0.03275  0.01352\n",
       "const  0.33305 0.48577 0.0039663      0.0040450 -0.61228  0.33316  1.28456\n",
       "\n",
       "Variable: TWI \n",
       "\n",
       "           Mean      SD  Naive SD Time-series SD    2.5%        50%  97.5%\n",
       "GDP.1  0.337929 0.37502 0.0030620      0.0028981 -0.3985  0.3396646 1.0593\n",
       "CPI.1  0.179550 0.32736 0.0026729      0.0026729 -0.4690  0.1819597 0.8146\n",
       "TWI.1  0.982787 0.09409 0.0007682      0.0007296  0.8001  0.9830237 1.1665\n",
       "GDP.2 -0.218043 0.36793 0.0030041      0.0029485 -0.9294 -0.2197978 0.5090\n",
       "CPI.2 -0.082329 0.31443 0.0025673      0.0025673 -0.6995 -0.0840178 0.5308\n",
       "TWI.2  0.000521 0.09345 0.0007630      0.0007269 -0.1814  0.0001313 0.1828\n",
       "const  0.616967 0.91485 0.0074697      0.0074697 -1.1803  0.6159620 2.3951\n",
       "\n",
       "Variance-covariance matrix:\n",
       "\n",
       "            Mean      SD  Naive SD Time-series SD     2.5%      50%     97.5%\n",
       "GDP_GDP  0.13286 0.01764 0.0001440      0.0001518  0.10237  0.13128  0.171097\n",
       "GDP_CPI -0.04503 0.02168 0.0001770      0.0001883 -0.09010 -0.04423 -0.004584\n",
       "GDP_TWI  0.14815 0.08769 0.0007159      0.0007515 -0.01942  0.14575  0.328956\n",
       "CPI_GDP -0.04503 0.02168 0.0001770      0.0001883 -0.09010 -0.04423 -0.004584\n",
       "CPI_CPI  0.39072 0.05234 0.0004274      0.0004289  0.30193  0.38641  0.504035\n",
       "CPI_TWI -0.18309 0.14896 0.0012162      0.0013005 -0.48699 -0.18179  0.102369\n",
       "TWI_GDP  0.14815 0.08769 0.0007159      0.0007515 -0.01942  0.14575  0.328956\n",
       "TWI_CPI -0.18309 0.14896 0.0012162      0.0013005 -0.48699 -0.18179  0.102369\n",
       "TWI_TWI  6.36397 0.85257 0.0069612      0.0073619  4.91432  6.30049  8.251640\n"
      ]
     },
     "metadata": {},
     "output_type": "display_data"
    }
   ],
   "source": [
    "bvar_obj <- bvar(y = t(bvar_Y), x = t(bvar_X), \n",
    "                 A = draws_B[1:18,], C = draws_B[19:21,],\n",
    "                 Sigma = draws_Sigma)\n",
    "summary(bvar_obj)\n",
    "bvar_obj_thin <- thin_posterior(bvar_obj, thin = 15)"
   ]
  },
  {
   "cell_type": "markdown",
   "metadata": {},
   "source": [
    "The posterior sample/draws can be thinned with the _thin_posterior_ function, but we will not do this as there is no clear evidence that this is helpful for inference/predictions."
   ]
  },
  {
   "cell_type": "markdown",
   "metadata": {},
   "source": [
    "## Forecasts\n",
    "\n",
    "Forecasts with credible bands can apparently be obtained using the _predict.bvar_ function, but this function does not seem to work, so we will calculate the forecasts manually. My manual predictions mostly followed the source code for _predict.bvar_ function anyway, with specific focus on implementing the equations which generate the error terms.\n",
    "\n",
    "Because of the structure of the BVAR model, we also get forecasts for the CPI and TWI metrics for the same number of future periods."
   ]
  },
  {
   "cell_type": "code",
   "execution_count": 20,
   "metadata": {},
   "outputs": [],
   "source": [
    "# bvar_pred <- predict(bvar_obj_thin, n.ahead = 12, new_D = rep(1, 12))\n",
    "\n",
    "horizon <- 14\n",
    "GDP_forecasts <- matrix(0, nrow = store, ncol = horizon)\n",
    "CPI_forecasts <- matrix(0, nrow = store, ncol = horizon)\n",
    "TWI_forecasts <- matrix(0, nrow = store, ncol = horizon)\n",
    "\n",
    "for (iter in 1:store) {\n",
    "    # Compute 3-year/12-period forecasts\n",
    "    yhat <- matrix(0, nrow = horizon, ncol = 3)\n",
    "    end <- ncol(bvar_Y)\n",
    "    yhat[1:2, ] <- t(bvar_Y[, (end-1):end])\n",
    "\n",
    "    X_mat <- matrix(data = c(rep(0,p*nrow(bvar_Y)), 1), ncol = 1)\n",
    "    for (m in (p+1):horizon) { # Loop over periods to forecast\n",
    "        # Generate error\n",
    "        temp <- eigen(matrix(bvar_obj[[\"Sigma\"]][iter, ], nrow = k))\n",
    "        u  <- temp$vectors %*% diag(sqrt(temp$values)) %*% t(temp$vectors) %*% stats::rnorm(3)\n",
    "        #print(u)\n",
    "        # Generate X matrix from previous p periods\n",
    "        for (lag in 1:p) {\n",
    "            X_mat[(3*lag-2):(3*lag), 1] <- yhat[m-lag,]\n",
    "        }\n",
    "\n",
    "        # Use X matrix to forecast yhat (with generated error)\n",
    "        yhat[m, ] <- matrix(draws_B[,iter], nrow = 3) %*% X_mat + u\n",
    "    }\n",
    "    \n",
    "    GDP_forecasts[iter, ] <- t(yhat[,1])\n",
    "    CPI_forecasts[iter, ] <- t(yhat[,2])\n",
    "    TWI_forecasts[iter, ] <- t(yhat[,3])\n",
    "}"
   ]
  },
  {
   "cell_type": "markdown",
   "metadata": {},
   "source": [
    "## Plotting\n",
    "\n",
    "Now we can plot the median of the GDP growth forecasts for the next three years, which represents our posterior estimate for the future. Since the data ends at 2020 Q1, these forecasts will be from 2020 Q2 till 2023 Q1."
   ]
  },
  {
   "cell_type": "code",
   "execution_count": 21,
   "metadata": {},
   "outputs": [
    {
     "data": {
      "image/png": "[encoded data removed]",
      "text/plain": [
       "Plot with title \"Forecasted NZ GDP annual growth rate (BVAR model)\""
      ]
     },
     "metadata": {
      "image/png": {
       "height": 420,
       "width": 420
      }
     },
     "output_type": "display_data"
    }
   ],
   "source": [
    "plot_fanplot(GDP_forecasts, GDP_ts_cropped, c(-2.5, 6.5),\n",
    "             \"Forecasted NZ GDP annual growth rate (BVAR model)\")"
   ]
  },
  {
   "cell_type": "markdown",
   "metadata": {},
   "source": [
    "Since this BVAR model includes both CPI and TWI, it is incorporating more information into the predictions the BAR model which only included GDP growth data.\n",
    "The confidence bands are wider than for the BAR model, which indicates that the lagged three variables indicate more variability in the forecasts than the lagged GDP alone.\n",
    "\n",
    "Since we have the forecasts for CPI and TWI, we can also plot these using the _plot_forecasts_ function."
   ]
  },
  {
   "cell_type": "code",
   "execution_count": 22,
   "metadata": {},
   "outputs": [
    {
     "data": {
      "image/png": "[encoded data removed]",
      "text/plain": [
       "Plot with title \"Forecasted NZ CPI annual percentage change (BVAR model)\""
      ]
     },
     "metadata": {
      "image/png": {
       "height": 420,
       "width": 420
      }
     },
     "output_type": "display_data"
    },
    {
     "data": {
      "image/png": "[encoded data removed]",
      "text/plain": [
       "Plot with title \"Forecasted NZ TWI (BVAR model)\""
      ]
     },
     "metadata": {
      "image/png": {
       "height": 420,
       "width": 420
      }
     },
     "output_type": "display_data"
    }
   ],
   "source": [
    "plot_fanplot(CPI_forecasts, CPI_ts_cropped, c(-1,6),\n",
    "             \"Forecasted NZ CPI annual percentage change (BVAR model)\")\n",
    "plot_fanplot(TWI_forecasts, TWI_ts_cropped, c(48,82),\n",
    "             \"Forecasted NZ TWI (BVAR model)\")"
   ]
  },
  {
   "cell_type": "markdown",
   "metadata": {},
   "source": [
    "The forecasted values for CPI % change have a narrower confidence band than the forecasted values for GDP. From the plot, we can see that the CPI seems to have a less consistent trend over time, which would mean that the lagged CPI variables are not as strongly related to the current CPI variable. However, the BVAR model also uses lagged GDP and TWI variables to predict these CPI values, which means that CPI has a weaker relationship than GDP with all three of these lagged macroeconomic indicators.\n",
    "\n",
    "The forecasted values for TWI have an extremely wide confidence band, which means that we cannot have much confidence in the prediction.\n",
    "As a point estimate, we expect the TWI to be about 70 over the next three year-period, but the 95\\% credible interval spans from 60 to 80 by the end of 2023."
   ]
  },
  {
   "cell_type": "markdown",
   "metadata": {},
   "source": [
    "## Conclusion\n",
    "\n",
    "Our forecast from the BVAR model still seems quite positive, and has fairly similar results to the BAR model, with an average predicted annual growth rate of around 3.2% by 2023. The major difference between the forecasts from both models is the confidence bands, which are slightly wider for the BVAR than the VAR model. This means that the revised predicted GDP growth has more downside and upside risk, and by 2023 the lower and upper bounds of the credible interval are 1% and 5%, respectively.\n",
    "\n",
    "The BVAR model does have it's 95% credible interval including zero at about 2020 Q3. \n",
    "Both of these models did not work well in practice, with the GDP growth rate for 2020 Q2 dropping to -2%. However, these models can only predict based on what are included and will not tend to forecast for unusual events, such as a global pandemic and recession.\n",
    "There was two large recessions in the training set, around 1999 Q4 and 2008 Q1, but the vector autoregressive recognises that these are not normal economic behaviour, and so will tend not to predict them in the future.\n",
    "\n",
    "An improvement to this model might be to include a t-distribution for the error terms, as this is a more robust model and can better handle to unusual/extreme events. However, this might mean that model is not influenced as much by previous unusual events (ie recessions) and would therefore forecast that it is even less likely for zero or negative GDP growth to occur in the future three-year period.\n",
    "\n",
    "The BVAR model could be extended to an arbitrary number of NZ economic measures (variables), with CPI growth and TWI being used in this project since there is the strongest theory for them to relate to the GDP growth. An alternative model could also include economic measures from other countries, such as the GDP growth in Australia, USA, and UK, as it would be expected that the economic condition/activity of New Zealand's trading partners is related to the economic condition/activity of New Zealand itself. This global model might pick up on economic trends that are occurring worldwide, but have not yet translated into changes in the NZ economy/GDP."
   ]
  }
 ],
 "metadata": {
  "kernelspec": {
   "display_name": "R",
   "language": "R",
   "name": "ir"
  },
  "language_info": {
   "codemirror_mode": "r",
   "file_extension": ".r",
   "mimetype": "text/x-r-source",
   "name": "R",
   "pygments_lexer": "r",
   "version": "3.6.3"
  }
 },
 "nbformat": 4,
 "nbformat_minor": 4
}
